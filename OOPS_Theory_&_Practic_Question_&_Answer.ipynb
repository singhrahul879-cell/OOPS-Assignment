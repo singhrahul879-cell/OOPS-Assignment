{
  "nbformat": 4,
  "nbformat_minor": 0,
  "metadata": {
    "colab": {
      "provenance": []
    },
    "kernelspec": {
      "name": "python3",
      "display_name": "Python 3"
    },
    "language_info": {
      "name": "python"
    }
  },
  "cells": [
    {
      "cell_type": "markdown",
      "source": [
        "                          **Theory Question**"
      ],
      "metadata": {
        "id": "UVc8rx7sVoGB"
      }
    },
    {
      "cell_type": "markdown",
      "source": [
        "1.\tWhat is Object-Oriented Programming (OOP)?\n",
        "\n",
        "- OOP is a programming paradigm where code is organized into objects containing data (attributes) and behavior (methods). It focuses on real-world modeling using concepts like abstraction, encapsulation, inheritance, and polymorphism."
      ],
      "metadata": {
        "id": "Iz753h4aV1Wh"
      }
    },
    {
      "cell_type": "markdown",
      "source": [
        "2.\tWhat is a class in OOP?\n",
        "\n",
        "- A class is a blueprint or template for creating objects. It defines attributes (variables) and methods (functions) that describe the behavior of objects."
      ],
      "metadata": {
        "id": "F0W7X6BQWUe5"
      }
    },
    {
      "cell_type": "markdown",
      "source": [
        "3.\tWhat is an object in OOP?\n",
        "\n",
        "- An object is an instance of a class. It represents a specific entity with its own data (state) and behavior (methods)."
      ],
      "metadata": {
        "id": "tFZUn3cfWX2K"
      }
    },
    {
      "cell_type": "markdown",
      "source": [
        "4.\t What is the difference between abstraction and encapsulation?\n",
        "\n",
        "- Abstraction: Hiding implementation details and exposing only essential features. (e.g., using a method without knowing its internal code).\n",
        "\n",
        "- Encapsulation: Wrapping data and methods together and restricting direct access (using private variables)."
      ],
      "metadata": {
        "id": "eTBpk-DsWmIJ"
      }
    },
    {
      "cell_type": "markdown",
      "source": [
        "5.\tWhat are dunder methods in Python?\n",
        "\n",
        "- Dunder (double underscore) methods are special methods with names like __init__, __str__, __add__. They define built-in behavior and operator overloading."
      ],
      "metadata": {
        "id": "Ope7It0VWehJ"
      }
    },
    {
      "cell_type": "markdown",
      "source": [
        "6.\t Explain the concept of inheritance in OOP?\n",
        "\n",
        "- Inheritance allows a class (child) to acquire attributes and methods from another class (parent), promoting code reusability and hierarchy."
      ],
      "metadata": {
        "id": "5XgXp0WzWhmq"
      }
    },
    {
      "cell_type": "markdown",
      "source": [
        "7.\t What is polymorphism in OOP?\n",
        "\n",
        "- Polymorphism means same function name or operator behaves differently for different objects. Example: method overriding or operator overloading."
      ],
      "metadata": {
        "id": "F421JVO5Wsja"
      }
    },
    {
      "cell_type": "markdown",
      "source": [
        "8.\t How is encapsulation achieved in Python?\n",
        "\n",
        "- Encapsulation is achieved by:\n",
        "\n",
        "Using private attributes with __varname (name mangling).\n",
        "\n",
        "Providing getters and setters using methods or @property."
      ],
      "metadata": {
        "id": "zVhFtRX9WvZa"
      }
    },
    {
      "cell_type": "markdown",
      "source": [
        "9.\tWhat is a constructor in Python?\n",
        "\n",
        "- A constructor is the __init__ method, called automatically when an object is created, to initialize attributes."
      ],
      "metadata": {
        "id": "5pd4HgG9WyAh"
      }
    },
    {
      "cell_type": "markdown",
      "source": [
        "10.\tWhat are class and static methods in Python?\n",
        "\n",
        "- Class method (@classmethod): First parameter is cls. Used to access/modify class variables.\n",
        "\n",
        "- Static method (@staticmethod): No self or cls. Utility function inside class."
      ],
      "metadata": {
        "id": "hVX1F0P_W0Ry"
      }
    },
    {
      "cell_type": "markdown",
      "source": [
        "11.\tWhat is method overloading in Python\n",
        "\n",
        "Python doesn’t support traditional overloading by signature. Instead, it uses default arguments, *args, **kwargs, or singledispatch to mimic overloading."
      ],
      "metadata": {
        "id": "DH1YLCuEW01B"
      }
    },
    {
      "cell_type": "markdown",
      "source": [
        "12.\tWhat is method overriding in OOP?\n",
        "\n",
        "- Method overriding occurs when a child class defines a method with the same name as the parent, providing a new implementation."
      ],
      "metadata": {
        "id": "lox0YR3uW2WS"
      }
    },
    {
      "cell_type": "markdown",
      "source": [
        "13.\tWhat is a property decorator in Python?\n",
        "\n",
        "- The @property decorator turns a method into a read-only attribute. With @x.setter, it allows controlled attribute modification."
      ],
      "metadata": {
        "id": "8w-O-DGDW4Qh"
      }
    },
    {
      "cell_type": "markdown",
      "source": [
        "14.\tWhy is polymorphism important in OOP?\n",
        "\n",
        "- It improves flexibility and code reusability by allowing the same interface to work with different object types."
      ],
      "metadata": {
        "id": "boBu4cbzW50h"
      }
    },
    {
      "cell_type": "markdown",
      "source": [
        "15.\tWhat is an abstract class in Python?\n",
        "\n",
        "- An abstract class is a class that cannot be instantiated. It is defined using abc.ABC and has at least one @abstractmethod that must be implemented in subclasses."
      ],
      "metadata": {
        "id": "ehPrynS9W73Z"
      }
    },
    {
      "cell_type": "markdown",
      "source": [
        "16.\tWhat are the advantages of OOP?\n",
        "\n",
        "- Modularity\n",
        "\n",
        "- Code reusability\n",
        "\n",
        "- Encapsulation (security)\n",
        "\n",
        "- Easy to maintain and extend\n",
        "\n",
        "- Maps to real-world problems"
      ],
      "metadata": {
        "id": "0b-8VOWmW956"
      }
    },
    {
      "cell_type": "markdown",
      "source": [
        "17.\t What is multiple inheritance in Python?\n",
        "\n",
        "- When a class inherits from more than one parent class. Python uses MRO (Method Resolution Order) to handle conflicts."
      ],
      "metadata": {
        "id": "LfmAwezZW_lC"
      }
    },
    {
      "cell_type": "markdown",
      "source": [
        "18.\t What is the difference between a class variable and an instance ?\n",
        "\n",
        "- Class variable: Shared by all objects (e.g., count).\n",
        "\n",
        "- Instance variable: Unique for each object (e.g., self.name)."
      ],
      "metadata": {
        "id": "oAwpeiERXCxC"
      }
    },
    {
      "cell_type": "markdown",
      "source": [
        "19.\t Explain the purpose of ‘’__str__’ and ‘__repr__’ ‘ methods in Python ?\n",
        "\n",
        "- __str__: Returns a readable, user-friendly string (used with print()).\n",
        "\n",
        "- __repr__: Returns an unambiguous developer string (often valid Python code)."
      ],
      "metadata": {
        "id": "HLBD1rKbXEf5"
      }
    },
    {
      "cell_type": "markdown",
      "source": [
        "20.\t What is the significance of the ‘super()’ function in Python?\n",
        "\n",
        "- super() is used to call a parent class method, especially useful in constructors and multiple inheritance."
      ],
      "metadata": {
        "id": "nH9y0LQtXG3Z"
      }
    },
    {
      "cell_type": "markdown",
      "source": [
        "21.\tWhat is the significance of the __del__ method in Python?\n",
        "\n",
        "- __del__ is a destructor method called when an object is deleted or garbage collected. Used for cleanup (but not always reliable)."
      ],
      "metadata": {
        "id": "AaR2jQcpXIYh"
      }
    },
    {
      "cell_type": "markdown",
      "source": [
        "22.\t What is the difference between @staticmethod and @classmethod in Python?\n",
        "\n",
        "- @staticmethod: Does not take self or cls, just a normal function inside a class.\n",
        "\n",
        "- @classmethod: Takes cls as the first argument, can modify class-level data."
      ],
      "metadata": {
        "id": "Ch324SfxXKm5"
      }
    },
    {
      "cell_type": "markdown",
      "source": [
        "23.\t How does polymorphism work in Python with inheritance?\n",
        "\n",
        "- Through method overriding: child class redefines a parent’s method, and Python decides at runtime which method to call."
      ],
      "metadata": {
        "id": "beRKLwFgXNeT"
      }
    },
    {
      "cell_type": "markdown",
      "source": [
        "24.\t What is method chaining in Python OOP?\n",
        "\n",
        "- When methods return self, allowing calls to be chained like:\n",
        "\n",
        "obj.method1().method2().method3()"
      ],
      "metadata": {
        "id": "77uMzufwXPZ-"
      }
    },
    {
      "cell_type": "markdown",
      "source": [
        "25.\t What is the purpose of the __call__ method in Python?\n",
        "\n",
        "- __call__ allows an object to be called like a function. Example:"
      ],
      "metadata": {
        "id": "e6h5hxS_XRb6"
      }
    },
    {
      "cell_type": "code",
      "source": [
        "class A:\n",
        "    def __call__(self, x):\n",
        "        return x*x\n",
        "obj = A()\n",
        "print(obj(5))  # 25\n"
      ],
      "metadata": {
        "colab": {
          "base_uri": "https://localhost:8080/"
        },
        "id": "1KbYTyRFbZV5",
        "outputId": "470c7fd9-aaf8-4f14-e8b9-c597c31e730c"
      },
      "execution_count": 20,
      "outputs": [
        {
          "output_type": "stream",
          "name": "stdout",
          "text": [
            "25\n"
          ]
        }
      ]
    },
    {
      "cell_type": "markdown",
      "source": [
        "                              **Practical Questions**"
      ],
      "metadata": {
        "id": "-BlPtbIwXTrR"
      }
    },
    {
      "cell_type": "code",
      "source": [
        "#  1. Create a parent class Animal with a method speak() that prints a generic message. Create a child class Dog that overrides the speak() method to print \"Bark!\".\n",
        "\n",
        "class Animal:\n",
        "    def speak(self):\n",
        "        print(\"The animal makes a sound.\")\n",
        "\n",
        "class Dog(Animal):\n",
        "    def speak(self):\n",
        "        print(\"Bark!\")\n",
        "\n",
        "if __name__ == \"__main__\":\n",
        "    a = Animal()\n",
        "    d = Dog()\n",
        "    a.speak()\n",
        "    d.speak()\n"
      ],
      "metadata": {
        "colab": {
          "base_uri": "https://localhost:8080/"
        },
        "id": "eZgY6-H5XYYR",
        "outputId": "3c3825ec-ead3-4c85-9ced-d5fee60b3729"
      },
      "execution_count": 1,
      "outputs": [
        {
          "output_type": "stream",
          "name": "stdout",
          "text": [
            "The animal makes a sound.\n",
            "Bark!\n"
          ]
        }
      ]
    },
    {
      "cell_type": "code",
      "source": [
        "#  2. Write a program to create an abstract class Shape with a method area(). Derive classes Circle and Rectangle from it and implement the area() method in both.\n",
        "\n",
        "from abc import ABC, abstractmethod\n",
        "import math\n",
        "\n",
        "class Shape(ABC):\n",
        "    @abstractmethod\n",
        "    def area(self):\n",
        "        pass\n",
        "\n",
        "class Circle(Shape):\n",
        "    def __init__(self, radius):\n",
        "        self.radius = radius\n",
        "    def area(self):\n",
        "        return math.pi * self.radius ** 2\n",
        "\n",
        "class Rectangle(Shape):\n",
        "    def __init__(self, w, h):\n",
        "        self.w = w; self.h = h\n",
        "    def area(self):\n",
        "        return self.w * self.h\n",
        "\n",
        "if __name__ == \"__main__\":\n",
        "    print(Circle(3).area())\n",
        "    print(Rectangle(4,5).area())\n"
      ],
      "metadata": {
        "colab": {
          "base_uri": "https://localhost:8080/"
        },
        "id": "iuFIHj7zXaop",
        "outputId": "12c6eecc-e6ed-4042-c0be-fa688da977a1"
      },
      "execution_count": 2,
      "outputs": [
        {
          "output_type": "stream",
          "name": "stdout",
          "text": [
            "28.274333882308138\n",
            "20\n"
          ]
        }
      ]
    },
    {
      "cell_type": "code",
      "source": [
        "#  3. Implement a multi-level inheritance scenario where a class Vehicle has an attribute type. Derive a class Car and further derive a class ElectricCar that adds a battery attribute.\n",
        "\n",
        "class Vehicle:\n",
        "    def __init__(self, v_type):\n",
        "        self.type = v_type\n",
        "\n",
        "class Car(Vehicle):\n",
        "    def __init__(self, v_type, make):\n",
        "        super().__init__(v_type)\n",
        "        self.make = make\n",
        "\n",
        "class ElectricCar(Car):\n",
        "    def __init__(self, v_type, make, battery_capacity):\n",
        "        super().__init__(v_type, make)\n",
        "        self.battery = battery_capacity\n",
        "\n",
        "if __name__ == \"__main__\":\n",
        "    tesla = ElectricCar(\"Vehicle\", \"Tesla Model 3\", \"75 kWh\")\n",
        "    print(tesla.type, tesla.make, tesla.battery)\n"
      ],
      "metadata": {
        "colab": {
          "base_uri": "https://localhost:8080/"
        },
        "id": "a30TdiETX0Jy",
        "outputId": "16afcdf8-e422-4bc1-bc30-f043f64257d8"
      },
      "execution_count": 21,
      "outputs": [
        {
          "output_type": "stream",
          "name": "stdout",
          "text": [
            "Vehicle Tesla Model 3 75 kWh\n"
          ]
        }
      ]
    },
    {
      "cell_type": "code",
      "source": [
        "#  4. Demonstrate polymorphism by creating a base class Bird with a method fly(). Create two derived classes Sparrow and Penguin that override the fly() method.\n",
        "\n",
        "class Bird:\n",
        "    def fly(self):\n",
        "        print(\"Some birds can fly.\")\n",
        "\n",
        "class Sparrow(Bird):\n",
        "    def fly(self):\n",
        "        print(\"Sparrow flies high.\")\n",
        "\n",
        "class Penguin(Bird):\n",
        "    def fly(self):\n",
        "        print(\"Penguins can't fly but they swim.\")\n",
        "\n",
        "def let_it_fly(bird: Bird):\n",
        "    bird.fly()\n",
        "\n",
        "if __name__ == \"__main__\":\n",
        "    let_it_fly(Sparrow())\n",
        "    let_it_fly(Penguin())\n"
      ],
      "metadata": {
        "colab": {
          "base_uri": "https://localhost:8080/"
        },
        "id": "cYin6n9aX03J",
        "outputId": "536a674e-b2bf-41b5-f540-583ee53cd3a1"
      },
      "execution_count": 4,
      "outputs": [
        {
          "output_type": "stream",
          "name": "stdout",
          "text": [
            "Sparrow flies high.\n",
            "Penguins can't fly but they swim.\n"
          ]
        }
      ]
    },
    {
      "cell_type": "code",
      "source": [
        "#  5. Write a program to demonstrate encapsulation by creating a class BankAccount with private attributes balance and methods to deposit, withdraw, and check balance.\n",
        "\n",
        "class BankAccount:\n",
        "    def __init__(self, initial=0):\n",
        "        self.__balance = float(initial)\n",
        "\n",
        "    def deposit(self, amount):\n",
        "        if amount > 0:\n",
        "            self.__balance += amount\n",
        "        else:\n",
        "            raise ValueError(\"Deposit amount must be positive.\")\n",
        "\n",
        "    def withdraw(self, amount):\n",
        "        if amount <= 0:\n",
        "            raise ValueError(\"Withdraw amount must be positive.\")\n",
        "        if amount > self.__balance:\n",
        "            raise ValueError(\"Insufficient funds.\")\n",
        "        self.__balance -= amount\n",
        "\n",
        "    def check_balance(self):\n",
        "        return self.__balance\n",
        "\n",
        "if __name__ == \"__main__\":\n",
        "    acc = BankAccount(100)\n",
        "    acc.deposit(50)\n",
        "    try:\n",
        "        acc.withdraw(200)\n",
        "    except ValueError as e:\n",
        "        print(\"Error:\", e)\n",
        "    print(\"Balance:\", acc.check_balance())\n"
      ],
      "metadata": {
        "colab": {
          "base_uri": "https://localhost:8080/"
        },
        "id": "NSj9ENOHX1ex",
        "outputId": "0555db92-2330-4cd6-b5c2-9cfeada8a585"
      },
      "execution_count": 5,
      "outputs": [
        {
          "output_type": "stream",
          "name": "stdout",
          "text": [
            "Error: Insufficient funds.\n",
            "Balance: 150.0\n"
          ]
        }
      ]
    },
    {
      "cell_type": "code",
      "source": [
        "#  6. Demonstrate runtime polymorphism using a method play() in a base class Instrument. Derive classes Guitar and Piano that implement their own version of play().\n",
        "\n",
        "class Instrument:\n",
        "    def play(self):\n",
        "        raise NotImplementedError\n",
        "\n",
        "class Guitar(Instrument):\n",
        "    def play(self):\n",
        "        print(\"Strumming the guitar.\")\n",
        "\n",
        "class Piano(Instrument):\n",
        "    def play(self):\n",
        "        print(\"Playing the piano.\")\n",
        "\n",
        "if __name__ == \"__main__\":\n",
        "    for inst in (Guitar(), Piano()):\n",
        "        inst.play()\n"
      ],
      "metadata": {
        "colab": {
          "base_uri": "https://localhost:8080/"
        },
        "id": "EePnd-d3X2ZK",
        "outputId": "17326dfe-3b27-4c62-a8c1-39c4a3def1fc"
      },
      "execution_count": 6,
      "outputs": [
        {
          "output_type": "stream",
          "name": "stdout",
          "text": [
            "Strumming the guitar.\n",
            "Playing the piano.\n"
          ]
        }
      ]
    },
    {
      "cell_type": "code",
      "source": [
        "#  7. Create a class MathOperations with a class method add_numbers() to add two numbers and a static method subtract_numbers() to subtract two numbers.\n",
        "\n",
        "class MathOperations:\n",
        "    @classmethod\n",
        "    def add_numbers(cls, a, b):\n",
        "        return a + b\n",
        "\n",
        "    @staticmethod\n",
        "    def subtract_numbers(a, b):\n",
        "        return a - b\n",
        "\n",
        "if __name__ == \"__main__\":\n",
        "    print(MathOperations.add_numbers(5,3))\n",
        "    print(MathOperations.subtract_numbers(5,3))\n"
      ],
      "metadata": {
        "colab": {
          "base_uri": "https://localhost:8080/"
        },
        "id": "0JGbuF5IX29C",
        "outputId": "043a4291-0cb1-4210-a7ae-f27fad23ff97"
      },
      "execution_count": 7,
      "outputs": [
        {
          "output_type": "stream",
          "name": "stdout",
          "text": [
            "8\n",
            "2\n"
          ]
        }
      ]
    },
    {
      "cell_type": "code",
      "source": [
        "#  8. Implement a class Person with a class method to count the total number of persons created.\n",
        "\n",
        "class Person:\n",
        "    _count = 0\n",
        "\n",
        "    def __init__(self, name):\n",
        "        self.name = name\n",
        "        Person._count += 1\n",
        "\n",
        "    @classmethod\n",
        "    def total_persons(cls):\n",
        "        return cls._count\n",
        "\n",
        "if __name__ == \"__main__\":\n",
        "    p1 = Person(\"Alice\")\n",
        "    p2 = Person(\"Bob\")\n",
        "    print(Person.total_persons())\n"
      ],
      "metadata": {
        "colab": {
          "base_uri": "https://localhost:8080/"
        },
        "id": "R666sbKWX6nC",
        "outputId": "6ff95725-c07c-4424-8727-d7ef7f8a1da6"
      },
      "execution_count": 8,
      "outputs": [
        {
          "output_type": "stream",
          "name": "stdout",
          "text": [
            "2\n"
          ]
        }
      ]
    },
    {
      "cell_type": "code",
      "source": [
        "#  9. Write a class Fraction with attributes numerator and denominator. Override the str method to display the fraction as \"numerator/denominator\".\n",
        "\n",
        "from math import gcd\n",
        "\n",
        "class Fraction:\n",
        "    def __init__(self, numerator, denominator):\n",
        "        if denominator == 0:\n",
        "            raise ValueError(\"Denominator cannot be zero.\")\n",
        "        g = gcd(numerator, denominator)\n",
        "        self.n = numerator // g\n",
        "        self.d = denominator // g\n",
        "\n",
        "    def __str__(self):\n",
        "        return f\"{self.n}/{self.d}\"\n",
        "\n",
        "    def __repr__(self):\n",
        "        return f\"Fraction({self.n}, {self.d})\"\n",
        "\n",
        "if __name__ == \"__main__\":\n",
        "    print(Fraction(4, 6))  # 2/3\n"
      ],
      "metadata": {
        "colab": {
          "base_uri": "https://localhost:8080/"
        },
        "id": "WqN9TJLmX6Wx",
        "outputId": "710550bc-1a09-4b14-cfcc-12bca27730ff"
      },
      "execution_count": 10,
      "outputs": [
        {
          "output_type": "stream",
          "name": "stdout",
          "text": [
            "2/3\n"
          ]
        }
      ]
    },
    {
      "cell_type": "code",
      "source": [
        "#  10. Demonstrate operator overloading by creating a class Vector and overriding the add method to add two vectors.\n",
        "\n",
        "class Vector:\n",
        "    def __init__(self, *components):\n",
        "        self.components = tuple(components)\n",
        "\n",
        "    def __add__(self, other):\n",
        "        if not isinstance(other, Vector) or len(other.components) != len(self.components):\n",
        "            raise ValueError(\"Vectors must be same length\")\n",
        "        comps = [a + b for a,b in zip(self.components, other.components)]\n",
        "        return Vector(*comps)\n",
        "\n",
        "    def __str__(self):\n",
        "        return f\"Vector{self.components}\"\n",
        "\n",
        "if __name__ == \"__main__\":\n",
        "    v1 = Vector(1,2,3)\n",
        "    v2 = Vector(4,5,6)\n",
        "    print(v1 + v2)\n"
      ],
      "metadata": {
        "colab": {
          "base_uri": "https://localhost:8080/"
        },
        "id": "UgZc8XB8X6Fi",
        "outputId": "0126655a-0545-4db2-cd94-a45508a418a1"
      },
      "execution_count": 11,
      "outputs": [
        {
          "output_type": "stream",
          "name": "stdout",
          "text": [
            "Vector(5, 7, 9)\n"
          ]
        }
      ]
    },
    {
      "cell_type": "code",
      "source": [
        "#  11. Create a class Person with attributes name and age. Add a method greet() that prints \"Hello, my name is {name} and I am {age} years old.\"\n",
        "\n",
        "class Person:\n",
        "    def __init__(self, name, age):\n",
        "        self.name = name; self.age = age\n",
        "\n",
        "    def greet(self):\n",
        "        print(f\"Hello, my name is {self.name} and I am {self.age} years old.\")\n",
        "\n",
        "if __name__ == \"__main__\":\n",
        "    Person(\"Rahul\", 25).greet()\n"
      ],
      "metadata": {
        "colab": {
          "base_uri": "https://localhost:8080/"
        },
        "id": "0h-KozASX5zT",
        "outputId": "d69e6b08-27a5-4aba-bdd4-b9677d638fa7"
      },
      "execution_count": 12,
      "outputs": [
        {
          "output_type": "stream",
          "name": "stdout",
          "text": [
            "Hello, my name is Rahul and I am 25 years old.\n"
          ]
        }
      ]
    },
    {
      "cell_type": "code",
      "source": [
        "#  12. Implement a class Student with attributes name and grades. Create a method average_grade() to compute the average of the grades.\n",
        "\n",
        "class Student:\n",
        "    def __init__(self, name, grades):\n",
        "        self.name = name\n",
        "        self.grades = list(grades)\n",
        "\n",
        "    def average_grade(self):\n",
        "        if not self.grades:\n",
        "            return 0\n",
        "        return sum(self.grades) / len(self.grades)\n",
        "\n",
        "if __name__ == \"__main__\":\n",
        "    s = Student(\"Anita\", [80, 90, 70])\n",
        "    print(s.average_grade())\n"
      ],
      "metadata": {
        "colab": {
          "base_uri": "https://localhost:8080/"
        },
        "id": "P4oKvvDEX5gZ",
        "outputId": "bb40af20-e3c7-449d-d381-61dfa33691aa"
      },
      "execution_count": 13,
      "outputs": [
        {
          "output_type": "stream",
          "name": "stdout",
          "text": [
            "80.0\n"
          ]
        }
      ]
    },
    {
      "cell_type": "code",
      "source": [
        "#  13. Create a class Rectangle with methods set_dimensions() to set the dimensions and area() to calculate the area.\n",
        "\n",
        "class Rectangle:\n",
        "    def __init__(self, w=0, h=0):\n",
        "        self.w = w; self.h = h\n",
        "\n",
        "    def set_dimensions(self, w, h):\n",
        "        self.w = w; self.h = h\n",
        "\n",
        "    def area(self):\n",
        "        return self.w * self.h\n",
        "\n",
        "if __name__ == \"__main__\":\n",
        "    r = Rectangle()\n",
        "    r.set_dimensions(4,5)\n",
        "    print(r.area())\n"
      ],
      "metadata": {
        "colab": {
          "base_uri": "https://localhost:8080/"
        },
        "id": "MVgOuw-YX5Ni",
        "outputId": "17701d80-85ad-4c8f-f426-514aaa0c2f5c"
      },
      "execution_count": 14,
      "outputs": [
        {
          "output_type": "stream",
          "name": "stdout",
          "text": [
            "20\n"
          ]
        }
      ]
    },
    {
      "cell_type": "code",
      "source": [
        "#  14. Create a class Employee with a method calculate_salary() that computes the salary based on hours worked and hourly rate. Create a derived class Manager that adds a bonus to the salary.\n",
        "# Java + DSA\n",
        "# Pwskills\n",
        "\n",
        "class Employee:\n",
        "    def __init__(self, name, hours, rate):\n",
        "        self.name = name\n",
        "        self.hours = hours\n",
        "        self.rate = rate\n",
        "\n",
        "    def calculate_salary(self):\n",
        "        return self.hours * self.rate\n",
        "\n",
        "class Manager(Employee):\n",
        "    def __init__(self, name, hours, rate, bonus=0):\n",
        "        super().__init__(name, hours, rate)\n",
        "        self.bonus = bonus\n",
        "\n",
        "    def calculate_salary(self):\n",
        "        base = super().calculate_salary()\n",
        "        return base + self.bonus\n",
        "\n",
        "if __name__ == \"__main__\":\n",
        "    e = Employee(\"Sam\", 40, 20)\n",
        "    m = Manager(\"Priya\", 40, 25, bonus=500)\n",
        "    print(e.calculate_salary())\n",
        "    print(m.calculate_salary())\n"
      ],
      "metadata": {
        "colab": {
          "base_uri": "https://localhost:8080/"
        },
        "id": "Usj9bTcyX446",
        "outputId": "0080c3d7-53a7-4888-b04a-5bb1af28f164"
      },
      "execution_count": 15,
      "outputs": [
        {
          "output_type": "stream",
          "name": "stdout",
          "text": [
            "800\n",
            "1500\n"
          ]
        }
      ]
    },
    {
      "cell_type": "code",
      "source": [
        "#  15. Create a class Product with attributes name, price, and quantity. Implement a method total_price() that calculates the total price of the product.\n",
        "\n",
        "class Product:\n",
        "    def __init__(self, name, price, quantity):\n",
        "        self.name = name\n",
        "        self.price = price\n",
        "        self.quantity = quantity\n",
        "\n",
        "    def total_price(self):\n",
        "        return self.price * self.quantity\n",
        "\n",
        "if __name__ == \"__main__\":\n",
        "    p = Product(\"Pen\", 10, 5)\n",
        "    print(p.total_price())\n"
      ],
      "metadata": {
        "colab": {
          "base_uri": "https://localhost:8080/"
        },
        "id": "cB_R2CGYX4h6",
        "outputId": "79256618-7162-4a9a-957c-5680d197d3df"
      },
      "execution_count": 16,
      "outputs": [
        {
          "output_type": "stream",
          "name": "stdout",
          "text": [
            "50\n"
          ]
        }
      ]
    },
    {
      "cell_type": "code",
      "source": [
        "#  16. Create a class Animal with an abstract method sound(). Create two derived classes Cow and Sheep that implement the sound() method.\n",
        "\n",
        "from abc import ABC, abstractmethod\n",
        "\n",
        "class Animal(ABC):\n",
        "    @abstractmethod\n",
        "    def sound(self):\n",
        "        pass\n",
        "\n",
        "class Cow(Animal):\n",
        "    def sound(self):\n",
        "        print(\"Moo\")\n",
        "\n",
        "class Sheep(Animal):\n",
        "    def sound(self):\n",
        "        print(\"Baa\")\n",
        "\n",
        "if __name__ == \"__main__\":\n",
        "    Cow().sound()\n",
        "    Sheep().sound()\n"
      ],
      "metadata": {
        "colab": {
          "base_uri": "https://localhost:8080/"
        },
        "id": "AV82nElWX4Hp",
        "outputId": "cdf46a66-13ed-44c1-b4e9-f2b062d2245a"
      },
      "execution_count": 17,
      "outputs": [
        {
          "output_type": "stream",
          "name": "stdout",
          "text": [
            "Moo\n",
            "Baa\n"
          ]
        }
      ]
    },
    {
      "cell_type": "code",
      "source": [
        "#  17. Create a class Book with attributes title, author, and year_published. Add a method get_book_info() that returns a formatted string with the book's details.\n",
        "\n",
        "class Book:\n",
        "    def __init__(self, title, author, year_published):\n",
        "        self.title = title; self.author = author; self.year = year_published\n",
        "\n",
        "    def get_book_info(self):\n",
        "        return f\"'{self.title}' by {self.author} ({self.year})\"\n",
        "\n",
        "if __name__ == \"__main__\":\n",
        "    b = Book(\"1984\", \"George Orwell\", 1949)\n",
        "    print(b.get_book_info())\n"
      ],
      "metadata": {
        "colab": {
          "base_uri": "https://localhost:8080/"
        },
        "id": "PEhZMVZzX3j5",
        "outputId": "4752737c-ee2b-4bff-e401-4e7e20eec0c9"
      },
      "execution_count": 18,
      "outputs": [
        {
          "output_type": "stream",
          "name": "stdout",
          "text": [
            "'1984' by George Orwell (1949)\n"
          ]
        }
      ]
    },
    {
      "cell_type": "code",
      "source": [
        "#  18. Create a class House with attributes address and price. Create a derived class Mansion that adds an attribute number_of_rooms\n",
        "\n",
        "class House:\n",
        "    def __init__(self, address, price):\n",
        "        self.address = address\n",
        "        self.price = price\n",
        "\n",
        "class Mansion(House):\n",
        "    def __init__(self, address, price, number_of_rooms):\n",
        "        super().__init__(address, price)\n",
        "        self.number_of_rooms = number_of_rooms\n",
        "\n",
        "if __name__ == \"__main__\":\n",
        "    m = Mansion(\"Park Lane\", 3_000_000, 12)\n",
        "    print(m.address, m.price, m.number_of_rooms)\n"
      ],
      "metadata": {
        "colab": {
          "base_uri": "https://localhost:8080/"
        },
        "id": "NyeFeQMfYVaS",
        "outputId": "883d326a-256f-420f-98cd-b70e4aa95959"
      },
      "execution_count": 19,
      "outputs": [
        {
          "output_type": "stream",
          "name": "stdout",
          "text": [
            "Park Lane 3000000 12\n"
          ]
        }
      ]
    }
  ]
}